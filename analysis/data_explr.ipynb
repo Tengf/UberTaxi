{
 "cells": [
  {
   "cell_type": "code",
   "execution_count": 1,
   "metadata": {
    "collapsed": true
   },
   "outputs": [],
   "source": [
    "import pandas as pd, numpy as np\n",
    "import datetime\n",
    "\n",
    "def convertTime(dt):\n",
    "    d = datetime.datetime.strptime(dt, '%Y-%m-%d %H:%M:%S')\n",
    "    return d\n",
    "\n",
    "def convertCount(ct):\n",
    "    c = np.int64(np.float64(ct))\n",
    "    return c\n",
    "\n",
    "trips = pd.read_csv('../data/aggregated/merged.csv', \\\n",
    "                    converters={'datetime': convertTime, 'u_count': convertCount})\n",
    "trips['month'] = trips['datetime'].apply(lambda x: str(x.year)+'-'+str(x.month))"
   ]
  },
  {
   "cell_type": "code",
   "execution_count": 8,
   "metadata": {
    "collapsed": false
   },
   "outputs": [],
   "source": [
    "borough_frames_by_months = []\n",
    "for m in trips.month.unique():\n",
    "    borough_frames_by_months.append(trips[trips.month==m].groupby(['borough', 'datetime'], as_index=False)\\\n",
    "                            .agg({'m_count': np.sum, 'u_count': np.sum}))"
   ]
  },
  {
   "cell_type": "code",
   "execution_count": 9,
   "metadata": {
    "collapsed": false
   },
   "outputs": [
    {
     "name": "stdout",
     "output_type": "stream",
     "text": [
      "This is the format of your plot grid:\n",
      "[ (1,1) x1,y1 ]    [ (1,2) x2,y2 ]    [ (1,3) x3,y3 ]  \n",
      "[ (2,1) x4,y4 ]    [ (2,2) x5,y5 ]    [ (2,3) x6,y6 ]  \n",
      "[ (3,1) x7,y7 ]    [ (3,2) x8,y8 ]    [ (3,3) x9,y9 ]  \n",
      "[ (4,1) x10,y10 ]  [ (4,2) x11,y11 ]  [ (4,3) x12,y12 ]\n",
      "\n"
     ]
    }
   ],
   "source": [
    "from plotly import tools\n",
    "import plotly.plotly as py\n",
    "import plotly.graph_objs as go\n",
    "\n",
    "fig = tools.make_subplots(rows=4, cols=3, subplot_titles=('April 2014', 'May 2014', 'June 2014', \n",
    "                                                          'July 2014', 'August 2014', 'September 2014',\n",
    "                                                          'January 2015', 'February 2015', 'March 2015', \n",
    "                                                          'April 2015', 'May 2015', 'June 2015'))"
   ]
  },
  {
   "cell_type": "code",
   "execution_count": 13,
   "metadata": {
    "collapsed": false
   },
   "outputs": [],
   "source": [
    "for cnt,df in enumerate(borough_frames_by_months):\n",
    "    if cnt==0:\n",
    "        medallion = go.Scatter(name='Medallion',\n",
    "                               x=df[df.borough=='Manhattan']['datetime'],\n",
    "                               y=df[df.borough=='Manhattan']['m_count'],\n",
    "                               mode='lines',\n",
    "                               line=dict(color='rgb(255, 144, 14)'))\n",
    "        uber = go.Scatter(name='Uber',\n",
    "                          x=df[df.borough=='Manhattan']['datetime'],\n",
    "                          y=df[df.borough=='Manhattan']['u_count'],\n",
    "                          mode='lines',\n",
    "                          line=dict(color='rgb(93, 164, 214)'))\n",
    "    else:\n",
    "        medallion = go.Scatter(showlegend=False,\n",
    "                               x=df[df.borough=='Manhattan']['datetime'],\n",
    "                               y=df[df.borough=='Manhattan']['m_count'],\n",
    "                               mode='lines',\n",
    "                               line=dict(color='rgb(255, 144, 14)'))\n",
    "        uber = go.Scatter(showlegend=False,\n",
    "                          x=df[df.borough=='Manhattan']['datetime'],\n",
    "                          y=df[df.borough=='Manhattan']['u_count'],\n",
    "                          mode='lines',\n",
    "                          line=dict(color='rgb(93, 164, 214)'))\n",
    "    \n",
    "    fig.append_trace(medallion, cnt/3+1, cnt%3+1)\n",
    "    fig.append_trace(uber, cnt/3+1, cnt%3+1)"
   ]
  },
  {
   "cell_type": "code",
   "execution_count": 14,
   "metadata": {
    "collapsed": false,
    "scrolled": false
   },
   "outputs": [
    {
     "data": {
      "text/html": [
       "<iframe id=\"igraph\" scrolling=\"no\" style=\"border:none;\"seamless=\"seamless\" src=\"https://plot.ly/~fanshi118/105.embed\" height=\"525px\" width=\"100%\"></iframe>"
      ],
      "text/plain": [
       "<plotly.tools.PlotlyDisplay object>"
      ]
     },
     "execution_count": 14,
     "metadata": {},
     "output_type": "execute_result"
    }
   ],
   "source": [
    "fig['layout'].update(title='Uber vs Medallion: Number of Pickups in Manhattan')\n",
    "py.iplot(fig, filename='Pickups_in_Manhattan')"
   ]
  },
  {
   "cell_type": "code",
   "execution_count": 15,
   "metadata": {
    "collapsed": false
   },
   "outputs": [
    {
     "name": "stdout",
     "output_type": "stream",
     "text": [
      "This is the format of your plot grid:\n",
      "[ (1,1) x1,y1 ]    [ (1,2) x2,y2 ]    [ (1,3) x3,y3 ]  \n",
      "[ (2,1) x4,y4 ]    [ (2,2) x5,y5 ]    [ (2,3) x6,y6 ]  \n",
      "[ (3,1) x7,y7 ]    [ (3,2) x8,y8 ]    [ (3,3) x9,y9 ]  \n",
      "[ (4,1) x10,y10 ]  [ (4,2) x11,y11 ]  [ (4,3) x12,y12 ]\n",
      "\n"
     ]
    }
   ],
   "source": [
    "fig2 = tools.make_subplots(rows=4, cols=3, subplot_titles=('April 2014', 'May 2014','June 2014', \n",
    "                                                           'July 2014','August 2014', 'September 2014',\n",
    "                                                           'January 2015', 'February 2015', 'March 2015', \n",
    "                                                           'April 2015', 'May 2015', 'June 2015'))"
   ]
  },
  {
   "cell_type": "code",
   "execution_count": 16,
   "metadata": {
    "collapsed": true
   },
   "outputs": [],
   "source": [
    "for cnt,df in enumerate(borough_frames_by_months):\n",
    "    if cnt==0:\n",
    "        medallion = go.Scatter(name='Medallion',\n",
    "                               x=df[df.borough=='Brooklyn']['datetime'],\n",
    "                               y=df[df.borough=='Brooklyn']['m_count'],\n",
    "                               mode='lines',\n",
    "                               line=dict(color='rgb(255, 144, 14)'))\n",
    "        uber = go.Scatter(name='Uber',\n",
    "                          x=df[df.borough=='Brooklyn']['datetime'],\n",
    "                          y=df[df.borough=='Brooklyn']['u_count'],\n",
    "                          mode='lines',\n",
    "                          line=dict(color='rgb(93, 164, 214)'))\n",
    "    else:\n",
    "        medallion = go.Scatter(showlegend=False,\n",
    "                               x=df[df.borough=='Brooklyn']['datetime'],\n",
    "                               y=df[df.borough=='Brooklyn']['m_count'],\n",
    "                               mode='lines',\n",
    "                               line=dict(color='rgb(255, 144, 14)'))\n",
    "        uber = go.Scatter(showlegend=False,\n",
    "                          x=df[df.borough=='Brooklyn']['datetime'],\n",
    "                          y=df[df.borough=='Brooklyn']['u_count'],\n",
    "                          mode='lines',\n",
    "                          line=dict(color='rgb(93, 164, 214)'))\n",
    "    \n",
    "    fig2.append_trace(medallion, cnt/3+1, cnt%3+1)\n",
    "    fig2.append_trace(uber, cnt/3+1, cnt%3+1)"
   ]
  },
  {
   "cell_type": "code",
   "execution_count": 17,
   "metadata": {
    "collapsed": false
   },
   "outputs": [
    {
     "data": {
      "text/html": [
       "<iframe id=\"igraph\" scrolling=\"no\" style=\"border:none;\"seamless=\"seamless\" src=\"https://plot.ly/~fanshi118/107.embed\" height=\"525px\" width=\"100%\"></iframe>"
      ],
      "text/plain": [
       "<plotly.tools.PlotlyDisplay object>"
      ]
     },
     "execution_count": 17,
     "metadata": {},
     "output_type": "execute_result"
    }
   ],
   "source": [
    "fig2['layout'].update(title='Uber vs Medallion: Number of Pickups in Brooklyn')\n",
    "py.iplot(fig2, filename='Pickups_in_Brooklyn')"
   ]
  }
 ],
 "metadata": {
  "kernelspec": {
   "display_name": "Python 2",
   "language": "python",
   "name": "python2"
  },
  "language_info": {
   "codemirror_mode": {
    "name": "ipython",
    "version": 2
   },
   "file_extension": ".py",
   "mimetype": "text/x-python",
   "name": "python",
   "nbconvert_exporter": "python",
   "pygments_lexer": "ipython2",
   "version": "2.7.11"
  }
 },
 "nbformat": 4,
 "nbformat_minor": 0
}
